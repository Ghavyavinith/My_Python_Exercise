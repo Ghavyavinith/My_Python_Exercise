{
 "cells": [
  {
   "cell_type": "markdown",
   "metadata": {},
   "source": [
    "# While Loop Intermediate Solutions"
   ]
  },
  {
   "cell_type": "code",
   "execution_count": 4,
   "metadata": {},
   "outputs": [
    {
     "name": "stdout",
     "output_type": "stream",
     "text": [
      " Please Enter any Positive Integer less than 5 : 2\n",
      " Multiplication Table \n",
      "1  *  2  =  2\n",
      "2  *  2  =  4\n",
      "3  *  2  =  6\n",
      "4  *  2  =  8\n",
      "5  *  2  =  10\n",
      "6  *  2  =  12\n",
      "7  *  2  =  14\n",
      "8  *  2  =  16\n",
      "9  *  2  =  18\n",
      "10  *  2  =  20\n",
      "==============\n",
      "1  *  3  =  3\n",
      "2  *  3  =  6\n",
      "3  *  3  =  9\n",
      "4  *  3  =  12\n",
      "5  *  3  =  15\n",
      "6  *  3  =  18\n",
      "7  *  3  =  21\n",
      "8  *  3  =  24\n",
      "9  *  3  =  27\n",
      "10  *  3  =  30\n",
      "==============\n",
      "1  *  4  =  4\n",
      "2  *  4  =  8\n",
      "3  *  4  =  12\n",
      "4  *  4  =  16\n",
      "5  *  4  =  20\n",
      "6  *  4  =  24\n",
      "7  *  4  =  28\n",
      "8  *  4  =  32\n",
      "9  *  4  =  36\n",
      "10  *  4  =  40\n",
      "==============\n",
      "1  *  5  =  5\n",
      "2  *  5  =  10\n",
      "3  *  5  =  15\n",
      "4  *  5  =  20\n",
      "5  *  5  =  25\n",
      "6  *  5  =  30\n",
      "7  *  5  =  35\n",
      "8  *  5  =  40\n",
      "9  *  5  =  45\n",
      "10  *  5  =  50\n",
      "==============\n"
     ]
    }
   ],
   "source": [
    "#1\n",
    "i= int(input(\" Please Enter any Positive Integer less than 5 : \"))\n",
    "print(\" Multiplication Table \")\n",
    "\n",
    "while(i <= 5):\n",
    "    j = 1\n",
    "    while(j <= 10):\n",
    "        print('{1}  *  {0}  =  {2}'.format(i, j, i*j))\n",
    "        j = j + 1\n",
    "    print('==============')\n",
    "    i = i + 1"
   ]
  },
  {
   "cell_type": "code",
   "execution_count": 3,
   "metadata": {},
   "outputs": [
    {
     "name": "stdout",
     "output_type": "stream",
     "text": [
      "10\n",
      "20\n",
      "30\n",
      "40\n",
      "50\n",
      "Sum=  150\n"
     ]
    }
   ],
   "source": [
    "#2\n",
    "x = [10,20,30,40,50]\n",
    "sum = 0\n",
    "i = 0\n",
    "while i < len(x):\n",
    "    print(x[i])\n",
    "    sum += x[i]\n",
    "    i += 1\n",
    "print(\"Sum= \",sum)"
   ]
  },
  {
   "cell_type": "code",
   "execution_count": 12,
   "metadata": {},
   "outputs": [
    {
     "name": "stdout",
     "output_type": "stream",
     "text": [
      "Enter minimum and maximum range: 21,30\n",
      "22\n",
      "24\n",
      "26\n",
      "28\n",
      "30\n"
     ]
    }
   ],
   "source": [
    "#3\n",
    "m,n = [int(i) for i in input (\"Enter minimum and maximum range: \").split(\",\")]\n",
    "x = m\n",
    "if x % 2 != 0 :\n",
    "    x = x + 1\n",
    "\n",
    "while x>=m and x<=n:\n",
    "    print(x)\n",
    "    x+=2"
   ]
  },
  {
   "cell_type": "code",
   "execution_count": 13,
   "metadata": {},
   "outputs": [
    {
     "name": "stdout",
     "output_type": "stream",
     "text": [
      "aidinasaur\n",
      "python\n",
      "\n",
      "AIDINASAUR\n",
      "PYTHON\n"
     ]
    }
   ],
   "source": [
    "#4 \n",
    "lines = []\n",
    "while True:\n",
    "    l = input()\n",
    "    if l:\n",
    "        lines.append(l.upper())\n",
    "    else:\n",
    "        break;\n",
    "\n",
    "for l in lines:\n",
    "    print(l)"
   ]
  },
  {
   "cell_type": "code",
   "execution_count": 17,
   "metadata": {},
   "outputs": [
    {
     "name": "stdout",
     "output_type": "stream",
     "text": [
      "Enter your guess:4\n",
      "Enter your guess:5\n",
      "Enter your guess:6\n",
      "You lose\n"
     ]
    }
   ],
   "source": [
    "#5\n",
    "\n",
    "from random import randint\n",
    "\n",
    "\n",
    "random_number = randint(1, 10)\n",
    "\n",
    "guesses_left = 3\n",
    "\n",
    "while guesses_left>0:\n",
    "    guess=int(input(\"Enter your guess:\"))\n",
    "    if guess==random_number:\n",
    "        print (\"You win\")\n",
    "        break\n",
    "    guesses_left-=1\n",
    "else:\n",
    "    print (\"You lose\")"
   ]
  },
  {
   "cell_type": "code",
   "execution_count": 18,
   "metadata": {},
   "outputs": [
    {
     "name": "stdout",
     "output_type": "stream",
     "text": [
      "Input your password: salem23\n",
      "Not a Valid Password\n"
     ]
    }
   ],
   "source": [
    "#6\n",
    "import re\n",
    "p= input(\"Input your password: \")\n",
    "x = True\n",
    "while x:  \n",
    "    if (len(p)<6 or len(p)>12):\n",
    "        break\n",
    "    elif not re.search(\"[a-z]\",p):\n",
    "        break\n",
    "    elif not re.search(\"[0-9]\",p):\n",
    "        break\n",
    "    elif not re.search(\"[A-Z]\",p):\n",
    "        break\n",
    "    elif not re.search(\"[$#@]\",p):\n",
    "        break\n",
    "    elif re.search(\"\\s\",p):\n",
    "        break\n",
    "    else:\n",
    "        print(\"Valid Password\")\n",
    "        x=False\n",
    "        break\n",
    "\n",
    "if x:\n",
    "    print(\"Not a Valid Password\")"
   ]
  },
  {
   "cell_type": "code",
   "execution_count": 20,
   "metadata": {},
   "outputs": [
    {
     "name": "stdout",
     "output_type": "stream",
     "text": [
      "Input a letter of the alphabet: a\n",
      "a is a vowel.\n"
     ]
    }
   ],
   "source": [
    "#7\n",
    "l = input(\"Input a letter of the alphabet: \")\n",
    "\n",
    "if l in ('a', 'e', 'i', 'o', 'u'):\n",
    "     print(\"%s is a vowel.\" % l)\n",
    "elif l == 'y':\n",
    "    print(\"Sometimes letter y stand for vowel, sometimes stand for consonant.\")\n",
    "else:\n",
    "    print(\"%s is a consonant.\" % l) "
   ]
  },
  {
   "cell_type": "code",
   "execution_count": 21,
   "metadata": {},
   "outputs": [
    {
     "name": "stdout",
     "output_type": "stream",
     "text": [
      "Input some integers to calculate their sum and average. Input 0 to exit.\n",
      "12\n",
      "13\n",
      "15\n",
      "0\n",
      "Average and Sum of the above numbers are:  13.333333333333334 40.0\n"
     ]
    }
   ],
   "source": [
    "#8\n",
    "print(\"Input some integers to calculate their sum and average. Input 0 to exit.\")\n",
    "\n",
    "count = 0\n",
    "sum = 0.0\n",
    "number = 1\n",
    "\n",
    "while number != 0:\n",
    "    number = int(input(\"\"))\n",
    "    sum = sum + number\n",
    "    count += 1\n",
    "\n",
    "if count == 0:\n",
    "    print(\"Input some numbers\")\n",
    "else:\n",
    "    print(\"Average and Sum of the above numbers are: \", sum / (count-1), sum)"
   ]
  },
  {
   "cell_type": "code",
   "execution_count": 22,
   "metadata": {},
   "outputs": [
    {
     "name": "stdout",
     "output_type": "stream",
     "text": [
      "Fibonacci sequence:\n",
      "0 1 1 2 3 5 8 "
     ]
    }
   ],
   "source": [
    "#9\n",
    "terms = 7\n",
    "num1, num2 = 0,1\n",
    "count = 0\n",
    "print(\"Fibonacci sequence:\")\n",
    "while count < terms:\n",
    "    print(num1, end=\" \")\n",
    "    temp = num1+num2\n",
    "    num1 = num2\n",
    "    num2 = temp\n",
    "    count += 1"
   ]
  },
  {
   "cell_type": "code",
   "execution_count": 23,
   "metadata": {},
   "outputs": [
    {
     "name": "stdout",
     "output_type": "stream",
     "text": [
      "Given Number:  987654\n",
      "Reversed Number:  456789\n"
     ]
    }
   ],
   "source": [
    "#10\n",
    "x = 987654\n",
    "reverse_number = 0\n",
    "print(\"Given Number: \",x)\n",
    "while x > 0:\n",
    "    reminder = x % 10\n",
    "    reverse_number = (reverse_number * 10) + reminder\n",
    "    x = x // 10\n",
    "print(\"Reversed Number: \", reverse_number)"
   ]
  },
  {
   "cell_type": "code",
   "execution_count": 25,
   "metadata": {},
   "outputs": [
    {
     "name": "stdout",
     "output_type": "stream",
     "text": [
      "19\n"
     ]
    }
   ],
   "source": [
    "#11\n",
    "def digitsum(n):\n",
    "    num=str(n)\n",
    "    count=0\n",
    "    for i in num:\n",
    "        add=int(i)\n",
    "        count=count+add\n",
    "    return count\n",
    "\n",
    "print(digitsum(892))"
   ]
  },
  {
   "cell_type": "code",
   "execution_count": 26,
   "metadata": {},
   "outputs": [
    {
     "name": "stdout",
     "output_type": "stream",
     "text": [
      "Out of 100 Random Numbers, 50 were even and 50 were add\n"
     ]
    }
   ],
   "source": [
    "#12\n",
    "import random\n",
    "\n",
    "num = 0\n",
    "even = 0\n",
    "add = 0\n",
    "\n",
    "while num < 100:\n",
    "    random.randint(1,1000)\n",
    "    num = num + 1\n",
    "    if random.randint(1,1000)%2==0:\n",
    "        even = even + 1\n",
    "    else:\n",
    "        add = add + 1\n",
    "print(\"Out of 100 Random Numbers,\",even,\"were even and\",add,\"were add\")"
   ]
  },
  {
   "cell_type": "code",
   "execution_count": 28,
   "metadata": {},
   "outputs": [
    {
     "name": "stdout",
     "output_type": "stream",
     "text": [
      "Out of 100 Random Numbers, 45 were even and 55 were Odd\n",
      "Out of 100 Random Numbers, 45 were even and 55 were Odd\n",
      "Out of 100 Random Numbers, 45 were even and 55 were Odd\n"
     ]
    }
   ],
   "source": [
    "#13\n",
    "import random\n",
    "num = 0\n",
    "odd = 0\n",
    "even = 0\n",
    "loop = 0\n",
    "\n",
    "\n",
    "while loop < 3:\n",
    "    loop = loop +1\n",
    "\n",
    "    while num < 100:\n",
    "        num = num + 1\n",
    "        rand = random.randint(1,1000)\n",
    "        \n",
    "        if rand%2==0:\n",
    "            even = even + 1\n",
    "        else:\n",
    "            odd = odd + 1\n",
    "    result = print (\"Out of 100 Random Numbers,\",even,\"were even and\",odd,\"were Odd\")"
   ]
  },
  {
   "cell_type": "code",
   "execution_count": 29,
   "metadata": {},
   "outputs": [
    {
     "name": "stdout",
     "output_type": "stream",
     "text": [
      "Enter number:\n",
      "Enter the number:3\n",
      "6\n"
     ]
    }
   ],
   "source": [
    "#14\n",
    "print(\"Enter number:\")\n",
    "number =int(input(\"Enter the number:\"))\n",
    "fac = 1\n",
    "if number == 0:\n",
    "    print(1)\n",
    "    \n",
    "else:\n",
    "    while number >= 1:\n",
    "        fac = fac * number\n",
    "        number = number - 1\n",
    "    print(fac)\n"
   ]
  },
  {
   "cell_type": "code",
   "execution_count": 30,
   "metadata": {},
   "outputs": [
    {
     "name": "stdout",
     "output_type": "stream",
     "text": [
      "Enter the first number:10\n",
      "Enter the second number:20\n",
      "10\n"
     ]
    }
   ],
   "source": [
    "#15\n",
    "x = int(input(\"Enter the first number:\"))\n",
    "y = int(input(\"Enter the second number:\"))\n",
    "while y != 0:\n",
    "    x,y = y, x % y\n",
    "print(x)\n",
    "  "
   ]
  },
  {
   "cell_type": "code",
   "execution_count": 31,
   "metadata": {},
   "outputs": [
    {
     "name": "stdout",
     "output_type": "stream",
     "text": [
      "Enter a number:1234\n",
      "10\n"
     ]
    }
   ],
   "source": [
    "#16\n",
    "number = int(input(\"Enter a number:\"))\n",
    "sum = 0\n",
    "while True:\n",
    "    r = number % 10\n",
    "    number = number//10\n",
    "    sum = sum + r\n",
    "    if number < 10:\n",
    "        sum = sum + number\n",
    "        break\n",
    "print(sum)"
   ]
  },
  {
   "cell_type": "code",
   "execution_count": 32,
   "metadata": {},
   "outputs": [
    {
     "name": "stdout",
     "output_type": "stream",
     "text": [
      "Enter the number:10\n",
      "2\n",
      "5\n"
     ]
    }
   ],
   "source": [
    "#17\n",
    "number = int(input(\"Enter the number:\"))\n",
    "x = 2\n",
    "while x <= number:\n",
    "    y = 2\n",
    "    count = 0\n",
    "    while y <= x:\n",
    "        if x%y == 0:\n",
    "            count = count + 1\n",
    "        y = y + 1\n",
    "    if count <= 1 and number % x == 0:\n",
    "        print(x)\n",
    "    x = x + 1"
   ]
  },
  {
   "cell_type": "code",
   "execution_count": 33,
   "metadata": {},
   "outputs": [
    {
     "name": "stdout",
     "output_type": "stream",
     "text": [
      "Total digits are:  6\n"
     ]
    }
   ],
   "source": [
    "#18\n",
    "x = 257845\n",
    "count = 0\n",
    "while x != 0:\n",
    "    x //= 10\n",
    "    count += 1\n",
    "print(\"Total digits are: \", count)"
   ]
  },
  {
   "cell_type": "code",
   "execution_count": 37,
   "metadata": {},
   "outputs": [
    {
     "name": "stdout",
     "output_type": "stream",
     "text": [
      "[[0, 0, 0, 0, 0, 0, 0, 0, 0, 0], [0, 0, 0, 0, 0, 0, 0, 0, 0, 0], [0, 0, 0, 0, 0, 0, 0, 0, 0, 0], [0, 0, 0, 0, 0, 0, 0, 0, 0, 0], [0, 0, 0, 0, 0, 0, 0, 0, 0, 0]]\n"
     ]
    }
   ],
   "source": [
    "#19\n",
    "count=0\n",
    "array3=[]\n",
    "while count < 5:\n",
    "    temp=[]\n",
    "    count_inner=0\n",
    "    count+=1\n",
    "    while count_inner< 10:\n",
    "            temp.append(0)\n",
    "            count_inner+=1\n",
    "    array3.append(temp)\n",
    "print(array3)"
   ]
  },
  {
   "cell_type": "code",
   "execution_count": 38,
   "metadata": {},
   "outputs": [
    {
     "name": "stdout",
     "output_type": "stream",
     "text": [
      "**\n",
      "***\n",
      "************\n",
      "*****\n"
     ]
    }
   ],
   "source": [
    "#20\n",
    "def histogram( items ):\n",
    "    for n in items:\n",
    "        output = ''\n",
    "        times = n\n",
    "        while( times > 0 ):\n",
    "            output += '*'\n",
    "            times = times - 1\n",
    "        print(output)\n",
    "\n",
    "histogram([2, 3, 12, 5])"
   ]
  }
 ],
 "metadata": {
  "kernelspec": {
   "display_name": "Python 3",
   "language": "python",
   "name": "python3"
  },
  "language_info": {
   "codemirror_mode": {
    "name": "ipython",
    "version": 3
   },
   "file_extension": ".py",
   "mimetype": "text/x-python",
   "name": "python",
   "nbconvert_exporter": "python",
   "pygments_lexer": "ipython3",
   "version": "3.8.5"
  }
 },
 "nbformat": 4,
 "nbformat_minor": 4
}
