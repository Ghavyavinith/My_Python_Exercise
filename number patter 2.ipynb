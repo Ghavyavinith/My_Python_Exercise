{
 "cells": [
  {
   "cell_type": "code",
   "execution_count": 16,
   "id": "8a46dbf9",
   "metadata": {},
   "outputs": [
    {
     "name": "stdout",
     "output_type": "stream",
     "text": [
      "enter number of rows needed:9\n",
      "1 \n",
      "\n",
      "1 2 \n",
      "\n",
      "1 2 3 \n",
      "\n",
      "1 2 3 4 \n",
      "\n",
      "1 2 3 4 5 \n",
      "\n",
      "1 2 3 4 5 6 \n",
      "\n",
      "1 2 3 4 5 6 7 \n",
      "\n",
      "1 2 3 4 5 6 7 8 \n",
      "\n",
      "1 2 3 4 5 6 7 8 9 \n",
      "\n"
     ]
    }
   ],
   "source": [
    "'''to print a number pattern \n",
    "expected output'''\n",
    "n = int(input(\"enter number of rows needed:\"))\n",
    "for i in range(n):\n",
    "        for j in range(i+1):\n",
    "            print(j+1,end=\" \")\n",
    "        print('\\n')\n",
    " "
   ]
  },
  {
   "cell_type": "code",
   "execution_count": 19,
   "id": "362357e0",
   "metadata": {},
   "outputs": [
    {
     "name": "stdout",
     "output_type": "stream",
     "text": [
      "enter number of rows needed:9\n",
      "1 \n",
      "\n",
      "2 1 \n",
      "\n",
      "3 2 1 \n",
      "\n",
      "4 3 2 1 \n",
      "\n",
      "5 4 3 2 1 \n",
      "\n",
      "6 5 4 3 2 1 \n",
      "\n",
      "7 6 5 4 3 2 1 \n",
      "\n",
      "8 7 6 5 4 3 2 1 \n",
      "\n",
      "9 8 7 6 5 4 3 2 1 \n",
      "\n"
     ]
    }
   ],
   "source": [
    "n = int(input(\"enter number of rows needed:\"))\n",
    "for i in range(n):\n",
    "        for j in range(i,-1,-1):\n",
    "            print(j+1,end=\" \")\n",
    "        print('\\n')"
   ]
  },
  {
   "cell_type": "code",
   "execution_count": 3,
   "id": "b1316cb7",
   "metadata": {},
   "outputs": [
    {
     "name": "stdout",
     "output_type": "stream",
     "text": [
      "enter number of rows needed:4\n",
      "0 \n",
      "\n",
      "0 1 \n",
      "\n",
      "0 1 2 \n",
      "\n",
      "0 1 2 3 \n",
      "\n"
     ]
    }
   ],
   "source": [
    "n = int(input(\"enter number of rows needed:\"))\n",
    "for i in range(n):\n",
    "        for j in range(i+1):\n",
    "            print(j,end=\" \")\n",
    "        print('\\n')"
   ]
  }
 ],
 "metadata": {
  "kernelspec": {
   "display_name": "Python 3 (ipykernel)",
   "language": "python",
   "name": "python3"
  },
  "language_info": {
   "codemirror_mode": {
    "name": "ipython",
    "version": 3
   },
   "file_extension": ".py",
   "mimetype": "text/x-python",
   "name": "python",
   "nbconvert_exporter": "python",
   "pygments_lexer": "ipython3",
   "version": "3.11.3"
  }
 },
 "nbformat": 4,
 "nbformat_minor": 5
}
