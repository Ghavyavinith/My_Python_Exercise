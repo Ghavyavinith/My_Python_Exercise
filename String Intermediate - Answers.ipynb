{
 "cells": [
  {
   "cell_type": "markdown",
   "metadata": {},
   "source": [
    "# String Intermediate Solutions"
   ]
  },
  {
   "cell_type": "code",
   "execution_count": 1,
   "metadata": {},
   "outputs": [
    {
     "name": "stdout",
     "output_type": "stream",
     "text": [
      "{'a': 3, 'i': 2, 'd': 1, 'n': 1, 's': 1, 'u': 1, 'r': 1, '.': 1, 'c': 1, 'o': 1, 'm': 1}\n"
     ]
    }
   ],
   "source": [
    "#1\n",
    "def frequency(str1):\n",
    "    dict = {}\n",
    "    for n in str1:\n",
    "        keys = dict.keys()\n",
    "        if n in keys:\n",
    "            dict[n] += 1\n",
    "        else:\n",
    "            dict[n] = 1\n",
    "    return dict\n",
    "print(frequency(\"aidinasaur.com\"))"
   ]
  },
  {
   "cell_type": "code",
   "execution_count": 2,
   "metadata": {},
   "outputs": [
    {
     "name": "stdout",
     "output_type": "stream",
     "text": [
      "aiur\n",
      "aiai\n",
      "\n"
     ]
    }
   ],
   "source": [
    "#2\n",
    "def ends(str):\n",
    "    if len(str) < 2:\n",
    "        return ''\n",
    "\n",
    "    return str[0:2] + str[-2:]\n",
    "\n",
    "print(ends('aidinasaur'))\n",
    "print(ends('ai'))\n",
    "print(ends('a'))"
   ]
  },
  {
   "cell_type": "code",
   "execution_count": 3,
   "metadata": {},
   "outputs": [
    {
     "name": "stdout",
     "output_type": "stream",
     "text": [
      "resta$t\n"
     ]
    }
   ],
   "source": [
    "#3\n",
    "def chars(str1):\n",
    "    char = str1[0]\n",
    "    str1 = str1.replace(char, '$')\n",
    "    str1 = char + str1[1:]\n",
    "\n",
    "    return str1\n",
    "\n",
    "print(chars('restart'))"
   ]
  },
  {
   "cell_type": "code",
   "execution_count": 4,
   "metadata": {},
   "outputs": [
    {
     "name": "stdout",
     "output_type": "stream",
     "text": [
      "xyc abz\n"
     ]
    }
   ],
   "source": [
    "#4\n",
    "def up(a, b):\n",
    "    new_a = b[:2] + a[2:]\n",
    "    new_b = a[:2] + b[2:]\n",
    "\n",
    "    return new_a + ' ' + new_b\n",
    "print(up('abc', 'xyz'))"
   ]
  },
  {
   "cell_type": "code",
   "execution_count": 5,
   "metadata": {},
   "outputs": [
    {
     "name": "stdout",
     "output_type": "stream",
     "text": [
      "ab\n",
      "abcing\n",
      "stringly\n"
     ]
    }
   ],
   "source": [
    "#5\n",
    "def string(str1):\n",
    "    length = len(str1)\n",
    "\n",
    "    if length > 2:\n",
    "        if str1[-3:] == 'ing':\n",
    "            str1 += 'ly'\n",
    "        else:\n",
    "            str1 += 'ing'\n",
    "\n",
    "    return str1\n",
    "print(string('ab'))\n",
    "print(string('abc'))\n",
    "print(string('string'))"
   ]
  },
  {
   "cell_type": "code",
   "execution_count": 6,
   "metadata": {},
   "outputs": [
    {
     "name": "stdout",
     "output_type": "stream",
     "text": [
      "The lyrics is good!\n",
      "The lyrics is poor!\n"
     ]
    }
   ],
   "source": [
    "#6\n",
    "def poor(str1):\n",
    "    snot = str1.find('not')\n",
    "    spoor = str1.find('poor')\n",
    "  \n",
    "\n",
    "    if spoor > snot and snot>0 and spoor>0:\n",
    "        str1 = str1.replace(str1[snot:(spoor+4)], 'good')\n",
    "        return str1\n",
    "    else:\n",
    "        return str1\n",
    "print(poor('The lyrics is not that poor!')) \n",
    "print(poor('The lyrics is poor!'))"
   ]
  },
  {
   "cell_type": "code",
   "execution_count": 7,
   "metadata": {},
   "outputs": [
    {
     "name": "stdout",
     "output_type": "stream",
     "text": [
      "\n",
      "Longest word:  Exercises\n",
      "Length of the longest word:  9\n"
     ]
    }
   ],
   "source": [
    "#7\n",
    "def word(wordslist):\n",
    "    wordlen = []\n",
    "    for n in wordslist:\n",
    "        wordlen.append((len(n), n))\n",
    "    wordlen.sort()\n",
    "    return wordlen[-1][0], wordlen[-1][1]\n",
    "result = word([\"PHP\", \"Exercises\", \"Backend\"])\n",
    "print(\"\\nLongest word: \",result[1])\n",
    "print(\"Length of the longest word: \",result[0])"
   ]
  },
  {
   "cell_type": "code",
   "execution_count": 8,
   "metadata": {},
   "outputs": [
    {
     "name": "stdout",
     "output_type": "stream",
     "text": [
      "{'Read': 1, 'and': 1, 'edit': 1, 'documents': 1, 'attached': 1, 'to': 1, 'emails': 1}\n"
     ]
    }
   ],
   "source": [
    "#8\n",
    "def wordcount(str):\n",
    "    counts = dict()\n",
    "    words = str.split()\n",
    "\n",
    "    for word in words:\n",
    "        if word in counts:\n",
    "            counts[word] += 1\n",
    "        else:\n",
    "            counts[word] = 1\n",
    "\n",
    "    return counts\n",
    "\n",
    "print( wordcount('Read and edit documents attached to emails'))"
   ]
  },
  {
   "cell_type": "code",
   "execution_count": 9,
   "metadata": {},
   "outputs": [
    {
     "name": "stdout",
     "output_type": "stream",
     "text": [
      "Python\n",
      "PYTHON\n"
     ]
    }
   ],
   "source": [
    "#9\n",
    "def uppercase(str1):\n",
    "    numupper = 0\n",
    "    for letter in str1[:4]: \n",
    "        if letter.upper() == letter:\n",
    "            numupper += 1\n",
    "    if numupper >= 2:\n",
    "        return str1.upper()\n",
    "    return str1\n",
    "\n",
    "print(uppercase('Python'))\n",
    "print(uppercase('PyThon'))"
   ]
  },
  {
   "cell_type": "code",
   "execution_count": 10,
   "metadata": {},
   "outputs": [
    {
     "name": "stdout",
     "output_type": "stream",
     "text": [
      "\n",
      "Original Number:  3.1415926\n",
      "Formatted Number: 3.14\n",
      "Original Number:  12.9999\n",
      "Formatted Number: 13.00\n",
      "\n"
     ]
    }
   ],
   "source": [
    "#10\n",
    "x = 3.1415926\n",
    "y = 12.9999\n",
    "print(\"\\nOriginal Number: \", x)\n",
    "print(\"Formatted Number: \"+\"{:.2f}\".format(x));\n",
    "print(\"Original Number: \", y)\n",
    "print(\"Formatted Number: \"+\"{:.2f}\".format(y));\n",
    "print() "
   ]
  },
  {
   "cell_type": "code",
   "execution_count": 11,
   "metadata": {},
   "outputs": [
    {
     "name": "stdout",
     "output_type": "stream",
     "text": [
      "\n",
      "Original Number:  3.1415926\n",
      "Formatted Number with sign: +3.14\n",
      "Original Number:  -12.9999\n",
      "Formatted Number with sign: -13.00\n",
      "\n"
     ]
    }
   ],
   "source": [
    "#11\n",
    "x = 3.1415926\n",
    "y = -12.9999\n",
    "print(\"\\nOriginal Number: \", x)\n",
    "print(\"Formatted Number with sign: \"+\"{:+.2f}\".format(x));\n",
    "print(\"Original Number: \", y)\n",
    "print(\"Formatted Number with sign: \"+\"{:+.2f}\".format(y));\n",
    "print()"
   ]
  },
  {
   "cell_type": "code",
   "execution_count": 12,
   "metadata": {},
   "outputs": [
    {
     "name": "stdout",
     "output_type": "stream",
     "text": [
      "\n",
      "Original Number:  3.1415926\n",
      "Formatted Number with no decimal places: 3\n",
      "Original Number:  -12.9999\n",
      "Formatted Number with no decimal places: -13\n",
      "\n"
     ]
    }
   ],
   "source": [
    "#12\n",
    "x = 3.1415926\n",
    "y = -12.9999\n",
    "print(\"\\nOriginal Number: \", x)\n",
    "print(\"Formatted Number with no decimal places: \"+\"{:.0f}\".format(x));\n",
    "print(\"Original Number: \", y)\n",
    "print(\"Formatted Number with no decimal places: \"+\"{:.0f}\".format(y));\n",
    "print()"
   ]
  },
  {
   "cell_type": "code",
   "execution_count": 13,
   "metadata": {},
   "outputs": [
    {
     "name": "stdout",
     "output_type": "stream",
     "text": [
      "\n",
      "Original Number:  3\n",
      "Formatted Number(left padding, width 2): 03\n",
      "Original Number:  123\n",
      "Formatted Number(left padding, width 6): 000123\n",
      "\n"
     ]
    }
   ],
   "source": [
    "#13\n",
    "x = 3\n",
    "y = 123\n",
    "print(\"\\nOriginal Number: \", x)\n",
    "print(\"Formatted Number(left padding, width 2): \"+\"{:0>2d}\".format(x));\n",
    "print(\"Original Number: \", y)\n",
    "print(\"Formatted Number(left padding, width 6): \"+\"{:0>6d}\".format(y));\n",
    "print()"
   ]
  },
  {
   "cell_type": "code",
   "execution_count": 14,
   "metadata": {},
   "outputs": [
    {
     "name": "stdout",
     "output_type": "stream",
     "text": [
      "\n",
      "Original Number:  3\n",
      "Formatted Number(right padding, width 2):  3*\n",
      "Original Number:  123\n",
      "Formatted Number(right padding, width 6):  123***\n",
      "\n"
     ]
    }
   ],
   "source": [
    "#14\n",
    "x = 3\n",
    "y = 123\n",
    "print(\"\\nOriginal Number: \", x)\n",
    "print(\"Formatted Number(right padding, width 2): \"+\"{:*< 3d}\".format(x));\n",
    "print(\"Original Number: \", y)\n",
    "print(\"Formatted Number(right padding, width 6): \"+\"{:*< 7d}\".format(y));\n",
    "print()"
   ]
  },
  {
   "cell_type": "code",
   "execution_count": 15,
   "metadata": {},
   "outputs": [
    {
     "name": "stdout",
     "output_type": "stream",
     "text": [
      "\n",
      "Original Number:  3000000\n",
      "Formatted Number with comma separator: 3,000,000\n",
      "Original Number:  30000000\n",
      "Formatted Number with comma separator: 30,000,000\n",
      "\n"
     ]
    }
   ],
   "source": [
    "#15\n",
    "x = 3000000\n",
    "y = 30000000\n",
    "print(\"\\nOriginal Number: \", x)\n",
    "print(\"Formatted Number with comma separator: \"+\"{:,}\".format(x));\n",
    "print(\"Original Number: \", y)\n",
    "print(\"Formatted Number with comma separator: \"+\"{:,}\".format(y));\n",
    "print()"
   ]
  },
  {
   "cell_type": "code",
   "execution_count": 16,
   "metadata": {},
   "outputs": [
    {
     "name": "stdout",
     "output_type": "stream",
     "text": [
      "\n",
      "Original Number:  0.25\n",
      "Formatted Number with percentage: 25.00%\n",
      "Original Number:  -0.25\n",
      "Formatted Number with percentage: -25.00%\n",
      "\n"
     ]
    }
   ],
   "source": [
    "#16\n",
    "x = 0.25\n",
    "y = -0.25\n",
    "print(\"\\nOriginal Number: \", x)\n",
    "print(\"Formatted Number with percentage: \"+\"{:.2%}\".format(x));\n",
    "print(\"Original Number: \", y)\n",
    "print(\"Formatted Number with percentage: \"+\"{:.2%}\".format(y));\n",
    "print()"
   ]
  },
  {
   "cell_type": "code",
   "execution_count": 17,
   "metadata": {},
   "outputs": [
    {
     "name": "stdout",
     "output_type": "stream",
     "text": [
      "emails. to attached documents edit and Read\n",
      "Exercises. Python\n"
     ]
    }
   ],
   "source": [
    "#17\n",
    "def words(text):\n",
    "    for line in text.split('\\n'):\n",
    "        return(' '.join(line.split()[::-1]))\n",
    "print(words(\"Read and edit documents attached to emails.\"))\n",
    "print(words(\"Python Exercises.\"))"
   ]
  },
  {
   "cell_type": "code",
   "execution_count": 18,
   "metadata": {},
   "outputs": [
    {
     "name": "stdout",
     "output_type": "stream",
     "text": [
      "\n",
      "Original String: \n",
      "Read and edit documents attached to emails.\n",
      "After stripping a,e,i,o,u\n",
      "Rd nd dt dcmnts ttchd t mls.\n",
      "\n"
     ]
    }
   ],
   "source": [
    "#18\n",
    "def chars(str, char):\n",
    "    return \"\".join(c for c in str if c not in char)\n",
    "\n",
    "print(\"\\nOriginal String: \")\n",
    "print(\"Read and edit documents attached to emails.\")\n",
    "print(\"After stripping a,e,i,o,u\")      \n",
    "print(chars(\"Read and edit documents attached to emails.\", \"aeiou\"))\n",
    "print()"
   ]
  },
  {
   "cell_type": "code",
   "execution_count": 19,
   "metadata": {},
   "outputs": [
    {
     "name": "stdout",
     "output_type": "stream",
     "text": [
      "o 4\n",
      "e 3\n",
      "t 2\n",
      "h 2\n",
      "u 2\n",
      "r 2\n"
     ]
    }
   ],
   "source": [
    "#19\n",
    "import collections\n",
    "str1 = 'thequickbrownfoxjumpsoverthelazydog'\n",
    "d = collections.defaultdict(int)\n",
    "for c in str1:\n",
    "    d[c] += 1\n",
    "\n",
    "for c in sorted(d, key=d.get, reverse=True):\n",
    "    if d[c] > 1:\n",
    "        print('%s %d' % (c, d[c]))"
   ]
  },
  {
   "cell_type": "code",
   "execution_count": 20,
   "metadata": {},
   "outputs": [
    {
     "name": "stdout",
     "output_type": "stream",
     "text": [
      "The area of the rectangle is 1256.66cm²\n",
      "The volume of the cylinder is 1254.725cm³\n"
     ]
    }
   ],
   "source": [
    "#20\n",
    "area = 1256.66\n",
    "volume = 1254.725\n",
    "decimals = 2\n",
    "print(\"The area of the rectangle is {0:.{1}f}cm\\u00b2\".format(area, decimals))\n",
    "decimals = 3\n",
    "print(\"The volume of the cylinder is {0:.{1}f}cm\\u00b3\".format(volume, decimals))"
   ]
  },
  {
   "cell_type": "code",
   "execution_count": null,
   "metadata": {},
   "outputs": [],
   "source": []
  }
 ],
 "metadata": {
  "kernelspec": {
   "display_name": "Python 3",
   "language": "python",
   "name": "python3"
  },
  "language_info": {
   "codemirror_mode": {
    "name": "ipython",
    "version": 3
   },
   "file_extension": ".py",
   "mimetype": "text/x-python",
   "name": "python",
   "nbconvert_exporter": "python",
   "pygments_lexer": "ipython3",
   "version": "3.8.5"
  }
 },
 "nbformat": 4,
 "nbformat_minor": 4
}
