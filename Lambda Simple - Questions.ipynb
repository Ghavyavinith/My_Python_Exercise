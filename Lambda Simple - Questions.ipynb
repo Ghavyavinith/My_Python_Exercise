{
 "cells": [
  {
   "cell_type": "markdown",
   "metadata": {},
   "source": [
    "# Lambda Simple Questions"
   ]
  },
  {
   "cell_type": "code",
   "execution_count": 1,
   "metadata": {},
   "outputs": [
    {
     "name": "stdout",
     "output_type": "stream",
     "text": [
      "13\n"
     ]
    }
   ],
   "source": [
    "'''1. Write a python lambda function to summarize arguments a, b, and c and return the result.\n",
    "Data:\n",
    "    5, 6, 2\n",
    "Expected outout:\n",
    "    13'''\n",
    "x=lambda a,b,c:a+b+c\n",
    "print(x(5,6,2))"
   ]
  },
  {
   "cell_type": "code",
   "execution_count": 2,
   "metadata": {},
   "outputs": [
    {
     "name": "stdout",
     "output_type": "stream",
     "text": [
      "30\n"
     ]
    }
   ],
   "source": [
    "'''2. write a python lambda function to multiply argument a with argument b and return the result.\n",
    "Data:\n",
    "    5, 6\n",
    "Expected output:\n",
    "    30'''\n",
    "def myfun(n):\n",
    "    return lambda a:a*n\n",
    "multiply=myfun(5)\n",
    "print(multiply(6))"
   ]
  },
  {
   "cell_type": "code",
   "execution_count": 2,
   "metadata": {},
   "outputs": [
    {
     "name": "stdout",
     "output_type": "stream",
     "text": [
      "15\n"
     ]
    }
   ],
   "source": [
    "'''3. Write a python lambda function to add 10 to argument a, and return the result.\n",
    "Data:\n",
    "    a = 5\n",
    "Expected output:\n",
    "    15'''\n",
    "def myadd(n):\n",
    "    return lambda a:a+n\n",
    "add=myadd(5)\n",
    "print(add(10))"
   ]
  },
  {
   "cell_type": "code",
   "execution_count": 23,
   "metadata": {},
   "outputs": [
    {
     "name": "stdout",
     "output_type": "stream",
     "text": [
      "[4, 6, 8, 12]\n"
     ]
    }
   ],
   "source": [
    "'''4. Write a python lambda function to filter out only the even items from a list.\n",
    "Data:\n",
    "    my_list = [1, 5, 4, 6, 8, 11, 3, 12]\n",
    "Expected output:\n",
    "    [4, 6, 8, 12]'''\n",
    "my_list=[1,5,4,6,8,11,3,12]\n",
    "even_num=list(filter(lambda x:x%2==0,my_list))    \n",
    "print(even_num)\n"
   ]
  },
  {
   "cell_type": "code",
   "execution_count": 21,
   "metadata": {},
   "outputs": [
    {
     "name": "stdout",
     "output_type": "stream",
     "text": [
      "[2, 10, 8, 12, 16, 22, 6, 24]\n"
     ]
    }
   ],
   "source": [
    "'''5.  Write a python lambda function to double each item in a list using map().\n",
    "Data:\n",
    "    my_list = [1, 5, 4, 6, 8, 11, 3, 12]\n",
    "Expected output:\n",
    "    [2, 10, 8, 12, 16, 22, 6, 24]'''\n",
    "my_list=[1,5,4,6,8,11,3,12]\n",
    "result=list(map(lambda x:x*2,my_list))\n",
    "print(result)"
   ]
  },
  {
   "cell_type": "code",
   "execution_count": 20,
   "metadata": {},
   "outputs": [
    {
     "name": "stdout",
     "output_type": "stream",
     "text": [
      "[5, 7, 97, 77, 23, 73, 61]\n"
     ]
    }
   ],
   "source": [
    "'''6. Write a python code to illustrate filter() with lambda() to return only the odd numbers from a given list.\n",
    "Data:\n",
    "    li = [5, 7, 22, 97, 54, 62, 77, 23, 73, 61]\n",
    "Expected output:\n",
    "    [5, 7, 97, 77, 23, 73, 61]'''\n",
    "li=[5,7,22,97,54,62,77,23,73,61]\n",
    "result=list(filter(lambda x:x%2!=0,li))\n",
    "print(result)"
   ]
  },
  {
   "cell_type": "code",
   "execution_count": 19,
   "metadata": {},
   "outputs": [
    {
     "name": "stdout",
     "output_type": "stream",
     "text": [
      "[90, 59, 21, 60]\n"
     ]
    }
   ],
   "source": [
    "'''7. Write a python code to filter people above 18 years using lambda function.\n",
    "Data:\n",
    "    ages = [13, 90, 17, 59, 21, 60, 5]\n",
    "Expected output:\n",
    "    [90, 59, 21, 60]'''\n",
    "ages=[13,90,17,59,21,60,5]\n",
    "result=list(filter(lambda x:x>18,ages))\n",
    "print(result)\n",
    "    "
   ]
  },
  {
   "cell_type": "code",
   "execution_count": 14,
   "metadata": {},
   "outputs": [
    {
     "name": "stdout",
     "output_type": "stream",
     "text": [
      "value: 5\n",
      "double: 10\n",
      "triple: 15\n"
     ]
    }
   ],
   "source": [
    "'''8. Write a python function which has a lambda function to return double and triple of a given value.\n",
    "Data:\n",
    "    value = 5\n",
    "Expected output:\n",
    "    Value : 5\n",
    "    Double : 10\n",
    "    Triple : 15'''\n",
    "def myfunc(n):\n",
    "    return lambda a:a*n\n",
    "\n",
    "\n",
    "mydoubler=myfunc(2)\n",
    "mytripler = myfunc(3)\n",
    "x=5\n",
    "print(\"value:\",x )\n",
    "print(\"double:\",mydoubler(x))\n",
    "\n",
    "print(\"triple:\",mytripler(x))"
   ]
  },
  {
   "cell_type": "code",
   "execution_count": 18,
   "metadata": {},
   "outputs": [
    {
     "name": "stdout",
     "output_type": "stream",
     "text": [
      "[10, 14, 44, 194, 108, 124, 154, 46, 146, 122]\n"
     ]
    }
   ],
   "source": [
    "'''9. Write a python code to illustrate map() with lambda() to get double of each items in a given list.\n",
    "Data:\n",
    "    li = [5, 7, 22, 97, 54, 62, 77, 23, 73, 61]\n",
    "Expected output:\n",
    "    [10, 14, 44, 194, 108, 124, 154, 46, 146, 122]'''\n",
    "li=[5,7,22,97,54,62,77,23,73,61]\n",
    "result=list(map(lambda x:x*2,li))\n",
    "print(result)"
   ]
  },
  {
   "cell_type": "code",
   "execution_count": 17,
   "metadata": {},
   "outputs": [
    {
     "name": "stdout",
     "output_type": "stream",
     "text": [
      "['DOG', 'CAT', 'PARROT', 'RABBIT']\n"
     ]
    }
   ],
   "source": [
    "'''10. Write a python program to convert lower cases in a given list of strings into upper cases using lambda() and map() function.\n",
    "Data:\n",
    "    animals = ['dog', 'cat', 'parrot', 'rabbit']\n",
    "Expected output:\n",
    "    ['DOG', 'CAT', 'PARROT', 'RABBIT']'''\n",
    "k = ['dog','cat','parrot','rabbit']\n",
    "\n",
    "result=list(map(lambda x:x.upper(),k))\n",
    "\n",
    "print(result)"
   ]
  }
 ],
 "metadata": {
  "kernelspec": {
   "display_name": "Python 3 (ipykernel)",
   "language": "python",
   "name": "python3"
  },
  "language_info": {
   "codemirror_mode": {
    "name": "ipython",
    "version": 3
   },
   "file_extension": ".py",
   "mimetype": "text/x-python",
   "name": "python",
   "nbconvert_exporter": "python",
   "pygments_lexer": "ipython3",
   "version": "3.11.3"
  }
 },
 "nbformat": 4,
 "nbformat_minor": 4
}
