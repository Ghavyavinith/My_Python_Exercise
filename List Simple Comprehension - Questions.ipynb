{
 "cells": [
  {
   "cell_type": "markdown",
   "metadata": {},
   "source": [
    "# List Simple Comprehension Questions"
   ]
  },
  {
   "cell_type": "code",
   "execution_count": 3,
   "metadata": {},
   "outputs": [
    {
     "name": "stdout",
     "output_type": "stream",
     "text": [
      "['c', 'o', 'n', 's', 't', 'i', 't', 'u', 'i', 't', 'i', 'o', 'n']\n"
     ]
    }
   ],
   "source": [
    "'''1. Write a Python program to iterate through a string Using List Comprehension.\n",
    "    Data:\n",
    "        s = \"constituition\"\n",
    "    Expected Output:\n",
    "        ['c', 'o', 'n', 's', 't', 'i', 't', 'u', 'i', 't', 'i', 'o', 'n']'''\n",
    "s=\"constituition\"\n",
    "char=[i for i in s]\n",
    "print(char)\n",
    "        \n",
    "        "
   ]
  },
  {
   "cell_type": "code",
   "execution_count": 5,
   "metadata": {},
   "outputs": [
    {
     "name": "stdout",
     "output_type": "stream",
     "text": [
      "[0, 2, 4, 6, 8, 10, 12, 14, 16, 18]\n"
     ]
    }
   ],
   "source": [
    "'''2. Write a Python program to print the even numbers from 0 to 20 using list Comprehension.\n",
    "    Expected Output:\n",
    "        [0, 2, 4, 6, 8, 10, 12, 14, 16, 18, 20]'''\n",
    "even_num=[x for x in range(20) if x%2==0]\n",
    "print(even_num)\n",
    "        \n",
    "        \n",
    "        "
   ]
  },
  {
   "cell_type": "code",
   "execution_count": 6,
   "metadata": {},
   "outputs": [
    {
     "name": "stdout",
     "output_type": "stream",
     "text": [
      "[0, 2, 4, 5, 6, 8, 10, 12, 14, 15, 16, 18, 20, 22, 24, 25, 26, 28, 30, 32, 34, 35, 36, 38, 40, 42, 44, 45, 46, 48, 50, 52, 54, 55, 56, 58, 60, 62, 64, 65, 66, 68, 70, 72, 74, 75, 76, 78, 80, 82, 84, 85, 86, 88, 90, 92, 94, 95, 96, 98, 100]\n"
     ]
    }
   ],
   "source": [
    "'''3. Write a Python program to print the numbers from 0 to 100 which are divisible by 2 or 5 using list Comprehension.\n",
    "    Expected Output:\n",
    "    [0, 10, 20, 30, 40, 50, 60, 70, 80, 90, 100]'''\n",
    "divisor=[x for x in range(101) if x%2==0 or x%5==0]\n",
    "print(divisor)    \n",
    "    \n",
    "    "
   ]
  },
  {
   "cell_type": "code",
   "execution_count": 57,
   "metadata": {},
   "outputs": [
    {
     "name": "stdout",
     "output_type": "stream",
     "text": [
      "[[['*', '*', '*', '*', '*', '*'], ['*', '*', '*', '*', '*', '*'], ['*', '*', '*', '*', '*', '*'], ['*', '*', '*', '*', '*', '*']], [['*', '*', '*', '*', '*', '*'], ['*', '*', '*', '*', '*', '*'], ['*', '*', '*', '*', '*', '*'], ['*', '*', '*', '*', '*', '*']], [['*', '*', '*', '*', '*', '*'], ['*', '*', '*', '*', '*', '*'], ['*', '*', '*', '*', '*', '*'], ['*', '*', '*', '*', '*', '*']]]\n"
     ]
    }
   ],
   "source": [
    "'''4. Write a Python program to generate a 3*6*9 3D array whose each element is *. '''\n",
    "\n",
    "#doubt\n",
    "x=[[['*' for col in range(6)]for col in range(4)] for row in range(3)]\n",
    "print(x)\n"
   ]
  },
  {
   "cell_type": "code",
   "execution_count": 7,
   "metadata": {},
   "outputs": [
    {
     "name": "stdout",
     "output_type": "stream",
     "text": [
      "[7, 25, 27]\n"
     ]
    }
   ],
   "source": [
    "'''5. Write a Python program to print the numbers of a specified list after removing even numbers from it.\n",
    "    Data:\n",
    "        m = [7, 8, 120, 25, 44, 20, 27]\n",
    "    Expected Output:\n",
    "        [7, 25, 27]'''\n",
    "m=[7,8,120,25,44,20,27]\n",
    "result=[num for num in m if num%2 !=0]\n",
    "print(result)        \n",
    "        \n",
    "        \n",
    "        "
   ]
  },
  {
   "cell_type": "code",
   "execution_count": 11,
   "metadata": {},
   "outputs": [
    {
     "name": "stdout",
     "output_type": "stream",
     "text": [
      "['l1', 'm1', 'l2', 'm2', 'l3', 'm3', 'l4', 'm4']\n"
     ]
    }
   ],
   "source": [
    "'''6. Write a Python program to create a list by concatenating a given list with numbers ranges from 1 to n.\n",
    "    Data:\n",
    "        list : ['l', 'm']\n",
    "        n = 4\n",
    "    Expected Output:\n",
    "        ['l1', 'm1', 'l2', 'm2', 'l3', 'm3', 'l4', 'm4']'''\n",
    "list=['l','m']\n",
    "n=4 \n",
    "result = [item + str(i) for i in range(1,n+1) for item in list]\n",
    "print(result)\n",
    "    \n",
    "        "
   ]
  },
  {
   "cell_type": "code",
   "execution_count": 55,
   "metadata": {},
   "outputs": [
    {
     "name": "stdout",
     "output_type": "stream",
     "text": [
      "['c', 'marvel', 'c', 'boss', 'c', 'siva']\n"
     ]
    }
   ],
   "source": [
    "'''7. Write a Python program to insert an element before each element of a list.\n",
    "    Data:\n",
    "        x = ['marvel', 'boss', 'siva']\n",
    "    Expected Output:\n",
    "        ['c', 'marvel', 'c', 'boss', 'c', 'siva']'''\n",
    "a=['marvel','boss','siva']\n",
    "c=[y for x in a for y in('c',x) ]\n",
    "print(c)\n",
    "        "
   ]
  },
  {
   "cell_type": "code",
   "execution_count": 24,
   "metadata": {},
   "outputs": [
    {
     "name": "stdout",
     "output_type": "stream",
     "text": [
      "['Red']\n",
      "['Green']\n",
      "['Black']\n"
     ]
    }
   ],
   "source": [
    "'''8. Write a Python program to print each list on a new line from a given nested list.\n",
    "    Data:\n",
    "        x = [['Red'], ['Green'], ['Black']]\n",
    "    Expected Output:\n",
    "        ['Red']\n",
    "        ['Green']\n",
    "        ['Black']'''\n",
    "x=[['Red'],['Green'],['Black']]\n",
    "for y in x:\n",
    "    print(y)      \n",
    "        \n",
    "        "
   ]
  },
  {
   "cell_type": "code",
   "execution_count": 51,
   "metadata": {},
   "outputs": [
    {
     "name": "stdout",
     "output_type": "stream",
     "text": [
      "[['a', 'd', 'g', 'j', 'm'], ['b', 'e', 'h', 'k', 'n'], ['c', 'f', 'i', 'l']]\n"
     ]
    }
   ],
   "source": [
    "'''9. Write a Python program to split a list after every nth element.\n",
    "    Data:\n",
    "        list: ['a', 'b', 'c', 'd', 'e', 'f', 'g', 'h', 'i', 'j', 'k', 'l', 'm', 'n']\n",
    "    Expected Output:\n",
    "        [['a', 'd', 'g', 'j', 'm'], ['b', 'e', 'h', 'k', 'n'], ['c', 'f', 'i', 'l']]'''\n",
    "list=['a', 'b', 'c', 'd', 'e', 'f', 'g', 'h', 'i', 'j', 'k', 'l', 'm', 'n']\n",
    "n=3\n",
    "def list_slice(S, step):\n",
    "    return [S[i::step] for i in range(step)]\n",
    "print(list_slice(list,3))\n",
    "        \n",
    "        #doubt\n",
    "        "
   ]
  },
  {
   "cell_type": "code",
   "execution_count": 27,
   "metadata": {},
   "outputs": [
    {
     "name": "stdout",
     "output_type": "stream",
     "text": [
      "False\n",
      "True\n"
     ]
    }
   ],
   "source": [
    "'''10. Write a Python program to check whether all elements in a list are equal to the specified string.\n",
    "    Data:\n",
    "        x = [\"green\", \"orange\", \"black\", \"white\"]\n",
    "        y = [\"green\", \"green\", \"green\", \"green\"]\n",
    "    Expected Output:\n",
    "        False\n",
    "        True'''\n",
    "x=[\"green\",\"orange\",\"black\",\"white\"]\n",
    "y=[\"green\",\"green\",\"green\",\"green\"]\n",
    "\n",
    "print(all(c==\"blue\" for c in x))\n",
    "print(all(c==\"green\" for c in y))\n",
    "        \n",
    "        \n",
    "        "
   ]
  },
  {
   "cell_type": "code",
   "execution_count": 39,
   "metadata": {},
   "outputs": [
    {
     "name": "stdout",
     "output_type": "stream",
     "text": [
      "(6, 0)\n"
     ]
    }
   ],
   "source": [
    "'''11. Write a Python program to find a tuple from the list of tuple whose second value is the smallest.\n",
    "    Data:\n",
    "        x = [(4, 1), (1, 2), (6, 0)]\n",
    "    Expected Output:\n",
    "        (6, 0)'''\n",
    "\n",
    "x=[(4,1),(1,2),(6,0)]\n",
    "print(min(x,key=lambda n:(n[1],-n[0])))\n",
    "        "
   ]
  },
  {
   "cell_type": "code",
   "execution_count": 30,
   "metadata": {},
   "outputs": [
    {
     "name": "stdout",
     "output_type": "stream",
     "text": [
      "[{}, {}, {}, {}, {}]\n"
     ]
    }
   ],
   "source": [
    "'''12. Write a Python program to create a list of empty dictionaries.\n",
    "    Data:\n",
    "        n = 5\n",
    "    Expected Output:\n",
    "        [{}, {}, {}, {}, {}]'''\n",
    "n=5\n",
    "l=[{} for x in range(n)]\n",
    "print(l)\n",
    "        \n",
    "        "
   ]
  },
  {
   "cell_type": "code",
   "execution_count": 38,
   "metadata": {},
   "outputs": [
    {
     "name": "stdout",
     "output_type": "stream",
     "text": [
      "['boss1', 'boss2', 'boss3', 'boss4']\n"
     ]
    }
   ],
   "source": [
    "'''13. Write a Python program to insert a given string at the beginning of all items of a list.  \n",
    "    Data:\n",
    "        list : [1, 2, 3, 4]\n",
    "        string : boss\n",
    "    Expected Output:\n",
    "        ['boss1', 'boss2', 'boss3', 'boss4']'''\n",
    "list=[1,2,3,4]\n",
    "print(['boss{0}'.format(i) for i in list])\n",
    "\n",
    "        \n",
    "        \n",
    "        \n",
    "        "
   ]
  },
  {
   "cell_type": "code",
   "execution_count": 49,
   "metadata": {},
   "outputs": [
    {
     "name": "stdout",
     "output_type": "stream",
     "text": [
      "True\n"
     ]
    }
   ],
   "source": [
    "'''14. Write a Python program to check whether all the values in a list are > 200.\n",
    "    Data:\n",
    "        a = [220, 330, 500]\n",
    "    Expected Output:\n",
    "        True '''\n",
    "a=[220,330,500]\n",
    "print(all(x>200 for x in a))\n",
    "\n"
   ]
  },
  {
   "cell_type": "code",
   "execution_count": 59,
   "metadata": {},
   "outputs": [
    {
     "name": "stdout",
     "output_type": "stream",
     "text": [
      "True\n",
      "False\n"
     ]
    }
   ],
   "source": [
    "'''15. Write a Python program to check whether all the dictionaries in a list are empty or not.\n",
    "    Data:\n",
    "        x = [{},{},{}]\n",
    "        y = [{1,2},{},{}]   \n",
    "    Expected Output:\n",
    "        True\n",
    "        False'''\n",
    "x=[{},{},{}]\n",
    "y=[{1,2},{},{}]\n",
    "print(all(not d  for d in x))\n",
    "print(all(not d for d in y))\n",
    "        \n",
    "        "
   ]
  },
  {
   "cell_type": "code",
   "execution_count": 62,
   "metadata": {},
   "outputs": [
    {
     "name": "stdout",
     "output_type": "stream",
     "text": [
      "['bala', 'siva', 'sai']\n"
     ]
    }
   ],
   "source": [
    "'''16. Write a Python program to print a specified list after removing the 0th, 4th and 5th elements.\n",
    "    Data:\n",
    "        List : ['baskar', 'bala', 'siva', 'sai', 'suresh', 'kumar']\n",
    "    Expected Output:\n",
    "        ['bala', 'siva', 'sai']'''\n",
    "list=['baskar','bala','siva','sai','suresh','kumar']\n",
    "a=[x for(i,x) in enumerate(list) if i not in (0,4,5) ]\n",
    "print(a)\n",
    "    \n",
    "    "
   ]
  },
  {
   "cell_type": "code",
   "execution_count": 5,
   "metadata": {},
   "outputs": [
    {
     "name": "stdout",
     "output_type": "stream",
     "text": [
      "['Odd', 'Even', 'Odd', 'Even', 'Odd', 'Even', 'Odd', 'Even', 'Odd', 'Even']\n"
     ]
    }
   ],
   "source": [
    "'''17. Write a Python program to print the odd numbers as 'Odd' and even numbers as 'even' within the range(10).\n",
    "    Expected Output:\n",
    "        ['Even', 'Odd', 'Even', 'Odd', 'Even', 'Odd', 'Even', 'Odd', 'Even', 'Odd']'''\n",
    "check=[\"Odd\" if x %2 ==0 else \"Even\" for x in range(10)]\n",
    "print(check)\n",
    "\n",
    "\n",
    "        \n",
    "        \n",
    "        "
   ]
  },
  {
   "cell_type": "code",
   "execution_count": 4,
   "metadata": {},
   "outputs": [
    {
     "name": "stdout",
     "output_type": "stream",
     "text": [
      "[1, 3, 5, 7] , [2, 4, 6, 8]\n"
     ]
    }
   ],
   "source": [
    "'''18. Write a Python program to combine all the first element of a list of lists into a new list and \n",
    "        all the second element of a list of lists into another list. And print the two new lists as a list of lists.\n",
    "    Data:\n",
    "        x = [[1, 2], [3,4], [5,6], [7,8]]  \n",
    "    Expected Output:\n",
    "        [[1, 3, 5, 7], [2, 4, 6, 8]]'''\n",
    "x=[[1,2],[3,4],[5,6],[7,8]]\n",
    "first_element=[y[0] for y in x]\n",
    "second_element=[y[1] for y in x]\n",
    "print(first_element , \",\",second_element)\n",
    "        \n",
    "        "
   ]
  },
  {
   "cell_type": "code",
   "execution_count": 15,
   "metadata": {},
   "outputs": [],
   "source": [
    "''' 19. Write a Python program to print following output from given two list.\n",
    "    Data:\n",
    "        a = [-2, -1, 0, 1, 2, 3]\n",
    "        b = [4, 5, 6, 7, 8]\n",
    "    Expected Output:\n",
    "        [4, 6, 8, 8, 12, 16, 12, 18, 24] '''\n",
    "\n",
    "# Question incomplete        \n",
    "        "
   ]
  },
  {
   "cell_type": "code",
   "execution_count": 16,
   "metadata": {},
   "outputs": [
    {
     "name": "stdout",
     "output_type": "stream",
     "text": [
      "['yes', 'no', 'idle', 'idle', 'idle']\n"
     ]
    }
   ],
   "source": [
    "'''20. Write a Python program to print 'yes' when value is 1, 'no' when value is 2 and for any other values print 'idle' for the given data.\n",
    "    Data:\n",
    "        l = [1, 2, 3, 4, 5] \n",
    "    Expected Output:\n",
    "        ['yes', 'no', 'idle', 'idle', 'idle']'''\n",
    "l=[1,2,3,4,5]\n",
    "y=[ \"yes\" if x == 1  else  \"no\" if x==2 else \"idle\" for x in l]\n",
    "print(y)\n",
    "\n",
    "        \n",
    "        \n",
    "        "
   ]
  }
 ],
 "metadata": {
  "kernelspec": {
   "display_name": "Python 3 (ipykernel)",
   "language": "python",
   "name": "python3"
  },
  "language_info": {
   "codemirror_mode": {
    "name": "ipython",
    "version": 3
   },
   "file_extension": ".py",
   "mimetype": "text/x-python",
   "name": "python",
   "nbconvert_exporter": "python",
   "pygments_lexer": "ipython3",
   "version": "3.11.3"
  }
 },
 "nbformat": 4,
 "nbformat_minor": 4
}
