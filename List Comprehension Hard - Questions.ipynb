{
 "cells": [
  {
   "cell_type": "markdown",
   "metadata": {},
   "source": [
    "# List Comprehension Hard Questions"
   ]
  },
  {
   "cell_type": "code",
   "execution_count": 2,
   "metadata": {},
   "outputs": [
    {
     "name": "stdout",
     "output_type": "stream",
     "text": [
      "[{'key2': 'value2'}, {'key2': 'value4'}]\n"
     ]
    }
   ],
   "source": [
    "'''1. Write a Python program to remove key values pairs from a list of dictionaries.\n",
    "    Data:\n",
    "        Original List:  [{'key1': 'value1', 'key2': 'value2'}, {'key1': 'value3', 'key2': 'value4'}]\n",
    "        New List:  [{'key2': 'value2'}, {'key2': 'value4'}]'''\n",
    "original_list=[{'key1':'value1','key2':'value2'},{'key1': 'value3','key2':'value4'}]\n",
    "x=[{k: v for k, v in d.items() if k != 'key1'} for d in original_list]\n",
    "print(x)\n",
    "        "
   ]
  },
  {
   "cell_type": "code",
   "execution_count": 8,
   "metadata": {},
   "outputs": [
    {
     "name": "stdout",
     "output_type": "stream",
     "text": [
      "Items startwith c from the said list: ['calcium', 'copper', 'carbon']\n",
      "Items startwith p from the said list: ['proton', 'photon', 'photosynthesis']\n",
      "Items startwith m from the said list: []\n"
     ]
    }
   ],
   "source": [
    "'''2. Write a Python program to get the values starting with a specified letter from the list.\n",
    "    Data:\n",
    "        lists:['neutron', 'iron', 'proton', 'neuron', 'photon', 'photosynthesis', 'calcium', 'copper', 'carbon'] \n",
    "    Expected Output:\n",
    "        Original list: ['neutron', 'iron', 'proton', 'neuron', 'photon', 'photosynthesis', 'calcium', 'copper', 'carbon']\n",
    "        Items start with c from the said list: ['calcium', 'copper', 'carbon']\n",
    "        Items start with p from the said list: ['proton', 'photon', 'photosynthesis']\n",
    "        Items start with m from the said list: []  '''\n",
    "lists=['neutron', 'iron', 'proton', 'neuron', 'photon', 'photosynthesis', 'calcium', 'copper', 'carbon'] \n",
    "char= \"c\"\n",
    "result= [x for x in lists if x.startswith(char)]\n",
    "print(\"Items startwith c from the said list:\", result)\n",
    "char= \"p\"\n",
    "result= [x for x in lists if x.startswith(char)]\n",
    "print(\"Items startwith p from the said list:\", result)\n",
    "char= \"m\"\n",
    "result= [x for x in lists if x.startswith(char)]\n",
    "print(\"Items startwith m from the said list:\", result) \n",
    "        "
   ]
  },
  {
   "cell_type": "code",
   "execution_count": 17,
   "metadata": {},
   "outputs": [
    {
     "name": "stdout",
     "output_type": "stream",
     "text": [
      "After packing consecutive duplicates of the said list elements into sublists:\n",
      "[[10], [0], [11], [2], [3], [4], [44], [5], [6], [7], [8], [9], [4]]\n"
     ]
    }
   ],
   "source": [
    "'''3. Write a Python program to pack consecutive duplicates of a given list elements into sublists.\n",
    "    Data:\n",
    "        list:[10, 0, 11, 2, 3, 4, 44, 5, 6, 6, 6, 7, 8, 9, 4, 4]\n",
    "    Expected Output:\n",
    "        After packing consecutive duplicates of the said list elements into sublists:\n",
    "        [[10], [0], [11], [2], [3], [4], [44], [5], [6, 6, 6], [7], [8], [9], [4, 4]]'''\n",
    "list = [10, 0, 11, 2, 3, 4, 44, 5, 6, 6, 6, 7, 8, 9, 4, 4]\n",
    "packed_result = [[list[i]] for i in range(len(list)) if i == 0 or list[i] != list[i - 1]]\n",
    "print(\"After packing consecutive duplicates of the said list elements into sublists:\")\n",
    "print(packed_result)\n",
    "\n",
    "        \n",
    "        "
   ]
  },
  {
   "cell_type": "code",
   "execution_count": 20,
   "metadata": {},
   "outputs": [
    {
     "name": "stdout",
     "output_type": "stream",
     "text": [
      "Original list:\n",
      "[1, 1, 2, 3, 4, 4.3, 5, 1]\n",
      "\n",
      "List reflecting the run-length encoding from the said list:\n"
     ]
    },
    {
     "ename": "TypeError",
     "evalue": "'list' object is not callable",
     "output_type": "error",
     "traceback": [
      "\u001b[1;31m---------------------------------------------------------------------------\u001b[0m",
      "\u001b[1;31mTypeError\u001b[0m                                 Traceback (most recent call last)",
      "Cell \u001b[1;32mIn[20], line 16\u001b[0m\n\u001b[0;32m     14\u001b[0m \u001b[38;5;28mprint\u001b[39m(n_list)\n\u001b[0;32m     15\u001b[0m \u001b[38;5;28mprint\u001b[39m(\u001b[38;5;124m\"\u001b[39m\u001b[38;5;130;01m\\n\u001b[39;00m\u001b[38;5;124mList reflecting the run-length encoding from the said list:\u001b[39m\u001b[38;5;124m\"\u001b[39m)\n\u001b[1;32m---> 16\u001b[0m \u001b[38;5;28mprint\u001b[39m(encode_list(n_list))\n",
      "Cell \u001b[1;32mIn[20], line 11\u001b[0m, in \u001b[0;36mencode_list\u001b[1;34m(s_list)\u001b[0m\n\u001b[0;32m     10\u001b[0m \u001b[38;5;28;01mdef\u001b[39;00m \u001b[38;5;21mencode_list\u001b[39m(s_list):\n\u001b[1;32m---> 11\u001b[0m     \u001b[38;5;28;01mreturn\u001b[39;00m [[\u001b[38;5;28mlen\u001b[39m(s_list(group)), key] \u001b[38;5;28;01mfor\u001b[39;00m key, group \u001b[38;5;129;01min\u001b[39;00m groupby(s_list)]\n",
      "Cell \u001b[1;32mIn[20], line 11\u001b[0m, in \u001b[0;36m<listcomp>\u001b[1;34m(.0)\u001b[0m\n\u001b[0;32m     10\u001b[0m \u001b[38;5;28;01mdef\u001b[39;00m \u001b[38;5;21mencode_list\u001b[39m(s_list):\n\u001b[1;32m---> 11\u001b[0m     \u001b[38;5;28;01mreturn\u001b[39;00m [[\u001b[38;5;28mlen\u001b[39m(s_list(group)), key] \u001b[38;5;28;01mfor\u001b[39;00m key, group \u001b[38;5;129;01min\u001b[39;00m groupby(s_list)]\n",
      "\u001b[1;31mTypeError\u001b[0m: 'list' object is not callable"
     ]
    }
   ],
   "source": [
    "'''4. Write a Python program to create a list reflecting the run-length encoding from a given list of integers or characters. \n",
    "    Data:\n",
    "        list:[9, 1, 2, 4, 3, 4.3, 5, 1]\n",
    "        String: \"marvelboss\"\n",
    "    Expected Output:\n",
    "        List reflecting the run-length encoding from the said:\n",
    "        [[1, 9], [1, 1], [1, 2], [1, 4], [1, 3], [1, 4.3], [1, 5], [1, 1]]\n",
    "        [[1, 'M'], [1, 'a'], [1, 'r'], [1, 'v'], [1, 'e'], [1, 'l'], [1, 'b'], [1, 'o'], [2, 's']]'''\n",
    "from itertools import groupby\n",
    "def encode_list(s_list):\n",
    "    return [[len(list(group)), key] for key, group in groupby(s_list)]\n",
    "n_list = [1,1,2,3,4,4.3,5, 1]\n",
    "print(\"Original list:\") \n",
    "print(n_list)\n",
    "print(\"\\nList reflecting the run-length encoding from the said list:\")\n",
    "print(encode_list(n_list))\n",
    "#doubt\n",
    "        \n",
    "        \n",
    "        \n",
    "        "
   ]
  },
  {
   "cell_type": "code",
   "execution_count": 25,
   "metadata": {},
   "outputs": [
    {
     "ename": "TypeError",
     "evalue": "isinstance() arg 2 must be a type, a tuple of types, or a union",
     "output_type": "error",
     "traceback": [
      "\u001b[1;31m---------------------------------------------------------------------------\u001b[0m",
      "\u001b[1;31mTypeError\u001b[0m                                 Traceback (most recent call last)",
      "Cell \u001b[1;32mIn[25], line 14\u001b[0m\n\u001b[0;32m     11\u001b[0m encoded_data \u001b[38;5;241m=\u001b[39m [[\u001b[38;5;241m2\u001b[39m, \u001b[38;5;241m1\u001b[39m], \u001b[38;5;241m2\u001b[39m, \u001b[38;5;241m3\u001b[39m, [\u001b[38;5;241m2\u001b[39m, \u001b[38;5;241m4\u001b[39m], \u001b[38;5;241m5\u001b[39m, \u001b[38;5;241m1\u001b[39m]\n\u001b[0;32m     13\u001b[0m \u001b[38;5;66;03m# Decode the run-length encoded list using list comprehension\u001b[39;00m\n\u001b[1;32m---> 14\u001b[0m decoded_result \u001b[38;5;241m=\u001b[39m decode_run_length(encoded_data)\n\u001b[0;32m     16\u001b[0m \u001b[38;5;66;03m# Print the result\u001b[39;00m\n\u001b[0;32m     17\u001b[0m \u001b[38;5;28mprint\u001b[39m(\u001b[38;5;124m\"\u001b[39m\u001b[38;5;124mDecode a run-length encoded said list:\u001b[39m\u001b[38;5;124m\"\u001b[39m)\n",
      "Cell \u001b[1;32mIn[25], line 8\u001b[0m, in \u001b[0;36mdecode_run_length\u001b[1;34m(encoded_list)\u001b[0m\n\u001b[0;32m      7\u001b[0m \u001b[38;5;28;01mdef\u001b[39;00m \u001b[38;5;21mdecode_run_length\u001b[39m(encoded_list):\n\u001b[1;32m----> 8\u001b[0m  \u001b[38;5;28;01mreturn\u001b[39;00m [item \u001b[38;5;28;01mfor\u001b[39;00m sublist \u001b[38;5;129;01min\u001b[39;00m encoded_list \u001b[38;5;28;01mfor\u001b[39;00m item \u001b[38;5;129;01min\u001b[39;00m ([sublist[\u001b[38;5;241m1\u001b[39m]] \u001b[38;5;241m*\u001b[39m sublist[\u001b[38;5;241m0\u001b[39m] \u001b[38;5;28;01mif\u001b[39;00m \u001b[38;5;28misinstance\u001b[39m(sublist, \u001b[38;5;28mlist\u001b[39m) \u001b[38;5;28;01melse\u001b[39;00m [sublist])]\n",
      "Cell \u001b[1;32mIn[25], line 8\u001b[0m, in \u001b[0;36m<listcomp>\u001b[1;34m(.0)\u001b[0m\n\u001b[0;32m      7\u001b[0m \u001b[38;5;28;01mdef\u001b[39;00m \u001b[38;5;21mdecode_run_length\u001b[39m(encoded_list):\n\u001b[1;32m----> 8\u001b[0m  \u001b[38;5;28;01mreturn\u001b[39;00m [item \u001b[38;5;28;01mfor\u001b[39;00m sublist \u001b[38;5;129;01min\u001b[39;00m encoded_list \u001b[38;5;28;01mfor\u001b[39;00m item \u001b[38;5;129;01min\u001b[39;00m ([sublist[\u001b[38;5;241m1\u001b[39m]] \u001b[38;5;241m*\u001b[39m sublist[\u001b[38;5;241m0\u001b[39m] \u001b[38;5;28;01mif\u001b[39;00m \u001b[38;5;28misinstance\u001b[39m(sublist, \u001b[38;5;28mlist\u001b[39m) \u001b[38;5;28;01melse\u001b[39;00m [sublist])]\n",
      "\u001b[1;31mTypeError\u001b[0m: isinstance() arg 2 must be a type, a tuple of types, or a union"
     ]
    }
   ],
   "source": [
    "'''5. Write a Python program to decode a run-length encoded given list. \n",
    "    Data:\n",
    "        list:[[2, 1], 2, 3, [2, 4], 5, 1]\n",
    "    Expected Output:\n",
    "        Decode a run-length encoded said list:\n",
    "        [1, 1, 2, 3, 4, 4, 5, 1]'''\n",
    "def decode_run_length(encoded_list):\n",
    "return [item for sublist in encoded_list for item in ([sublist[1]] * sublist[0] if isinstance(sublist, list) else [sublist])]\n",
    "\n",
    "# Data\n",
    "encoded_data = [[2, 1], 2, 3, [2, 4], 5, 1]\n",
    "\n",
    "# Decode the run-length encoded list using list comprehension\n",
    "decoded_result = decode_run_length(encoded_data)\n",
    "\n",
    "# Print the result\n",
    "print(\"Decode a run-length encoded said list:\")\n",
    "print(decoded_result)\n",
    "\n",
    "        \n",
    "#doubt        \n",
    "        "
   ]
  },
  {
   "cell_type": "code",
   "execution_count": 32,
   "metadata": {},
   "outputs": [
    {
     "name": "stdout",
     "output_type": "stream",
     "text": [
      "Original list:\n",
      "[[2], [0], [1, 2, 3], [0, 1, 2, 3, 6, 7], [9, 11], [13, 14, 15, 17]]\n",
      "\n",
      "After removing sublists from a given list of lists, which contains an element outside the given range:\n",
      "[[13, 14, 15, 17]]\n"
     ]
    }
   ],
   "source": [
    "'''6. Write a Python program to remove sublists from a given list of lists, which contains an element outside a given range.\n",
    "    Data:\n",
    "        list:[[4], [10], [1, 4, 3], [0, 1, 5, 3, 6, 7], [9, 11], [13, 14, 15, 17]]\n",
    "    Expected Output:\n",
    "        Original list: [[2], [0], [1, 2, 3], [0, 1, 2, 3, 6, 7], [9, 11], [13, 14, 15, 17]]\n",
    "        After removing sublists which contains an element outside the range ( 13 , 17 ) : [[13, 14, 15, 17]]'''\n",
    "def remove_list_range(input_list, left_range, rigth_range):\n",
    "   result = [i for i in input_list if (min(i)>=left_range and max(i)<=rigth_range)]\n",
    "   return result\n",
    "list1 = [[2], [0], [1, 2, 3], [0, 1, 2, 3, 6, 7], [9, 11], [13, 14, 15, 17]]\n",
    "left_range = 13\n",
    "rigth_range = 17\n",
    "print(\"Original list:\")\n",
    "print(list1)\n",
    "print(\"\\nAfter removing sublists from a given list of lists, which contains an element outside the given range:\")\n",
    "print(remove_list_range(list1, left_range, rigth_range))\n",
    "\n",
    "#doubt\n",
    "        \n",
    "        \n",
    "        "
   ]
  },
  {
   "cell_type": "code",
   "execution_count": 42,
   "metadata": {},
   "outputs": [
    {
     "ename": "TypeError",
     "evalue": "'list' object is not callable",
     "output_type": "error",
     "traceback": [
      "\u001b[1;31m---------------------------------------------------------------------------\u001b[0m",
      "\u001b[1;31mTypeError\u001b[0m                                 Traceback (most recent call last)",
      "Cell \u001b[1;32mIn[42], line 22\u001b[0m\n\u001b[0;32m     19\u001b[0m data_list \u001b[38;5;241m=\u001b[39m [\u001b[38;5;124m'\u001b[39m\u001b[38;5;124mboss\u001b[39m\u001b[38;5;124m'\u001b[39m, \u001b[38;5;241m3\u001b[39m, \u001b[38;5;241m2\u001b[39m, \u001b[38;5;241m4\u001b[39m, \u001b[38;5;241m5\u001b[39m, \u001b[38;5;124m'\u001b[39m\u001b[38;5;124mkumar\u001b[39m\u001b[38;5;124m'\u001b[39m]\n\u001b[0;32m     21\u001b[0m \u001b[38;5;66;03m# Find maximum and minimum values using list comprehension\u001b[39;00m\n\u001b[1;32m---> 22\u001b[0m max_value, min_value \u001b[38;5;241m=\u001b[39m find_max_min(data_list)\n\u001b[0;32m     24\u001b[0m \u001b[38;5;66;03m# Print the results\u001b[39;00m\n\u001b[0;32m     25\u001b[0m \u001b[38;5;28mprint\u001b[39m(\u001b[38;5;124m\"\u001b[39m\u001b[38;5;124mMaximum value:\u001b[39m\u001b[38;5;124m\"\u001b[39m, max_value)\n",
      "Cell \u001b[1;32mIn[42], line 13\u001b[0m, in \u001b[0;36mfind_max_min\u001b[1;34m(lst)\u001b[0m\n\u001b[0;32m     10\u001b[0m \u001b[38;5;28;01mif\u001b[39;00m \u001b[38;5;129;01mnot\u001b[39;00m numeric_values:\n\u001b[0;32m     11\u001b[0m     \u001b[38;5;28;01mreturn\u001b[39;00m \u001b[38;5;28;01mNone\u001b[39;00m, \u001b[38;5;28;01mNone\u001b[39;00m\n\u001b[1;32m---> 13\u001b[0m max_value \u001b[38;5;241m=\u001b[39m \u001b[38;5;28mmax\u001b[39m(numeric_values)\n\u001b[0;32m     14\u001b[0m min_value \u001b[38;5;241m=\u001b[39m \u001b[38;5;28mmin\u001b[39m(numeric_values)\n\u001b[0;32m     16\u001b[0m \u001b[38;5;28;01mreturn\u001b[39;00m max_value, min_value\n",
      "\u001b[1;31mTypeError\u001b[0m: 'list' object is not callable"
     ]
    }
   ],
   "source": [
    "'''7. Write a Python program to find the maximum and minimum values in a given heterogeneous list. \n",
    "    Data:\n",
    "        list:['boss', 3, 2, 4, 5, 'kumar']\n",
    "    Expected Output:\n",
    "        Maximum and Minimum values in the said list:\n",
    "        (5, 2)'''\n",
    "\n",
    "\n",
    "        \n",
    "        \n",
    "        "
   ]
  },
  {
   "cell_type": "code",
   "execution_count": null,
   "metadata": {},
   "outputs": [],
   "source": [
    "'''8. Write a Python program to extract the strings from the list whose length is exactly equal to 8. \n",
    "    Data:\n",
    "        list:['string', 'list', 'exercises', 'practice', 'solution']\n",
    "    Expected Output:\n",
    "        length of the string to extract:\n",
    "            8\n",
    "        After extracting strings of specified length from the said list:\n",
    "        ['practice', 'solution']'''\n",
    "        \n",
    "        \n",
    "        \n",
    "        "
   ]
  },
  {
   "cell_type": "code",
   "execution_count": null,
   "metadata": {},
   "outputs": [],
   "source": [
    "9. Write a Python program to extract specified number of elements from a given list, which follows each other continuously. \n",
    "    Data:\n",
    "        nums = [1, 1, 3, 4, 4, 5, 6, 6, 7]\n",
    "        nums = [1, 2, 3, 4, 4, 4, 4, 5, 7, 7, 7, 7]\n",
    "    Expected Output:\n",
    "        lists1: [1, 1, 3, 4, 4, 5, 6, 6, 7]\n",
    "        Extract 2 number of elements from the said list which follows each other continuously: [1, 4, 6]\n",
    "        lists2: [1, 2, 3, 4, 4, 4, 4, 5, 7, 7, 7, 7]\n",
    "        Extract 4 number of elements from the said list which follows each other continuously: [4, 7]\n",
    "        \n",
    "        \n",
    "        "
   ]
  },
  {
   "cell_type": "code",
   "execution_count": null,
   "metadata": {},
   "outputs": [],
   "source": [
    "10. Write a Python program to find the difference between consecutive numbers in a given list. \n",
    "    Data:\n",
    "        lists1:[1, 1, 3, 4, 4, 5, 6, 7]\n",
    "        lists2:[4, 5, 8, 9, 6, 10]\n",
    "    Expected Output:\n",
    "        Difference between consecutive numbers of the said list:\n",
    "        [0, 2, 1, 0, 1, 1, 1]\n",
    "        [1, 3, 1, -3, 4]\n",
    "        \n",
    "        \n",
    "        \n",
    "        "
   ]
  },
  {
   "cell_type": "code",
   "execution_count": null,
   "metadata": {},
   "outputs": [],
   "source": [
    "11. Write a Python program to extract a specified column from a given nested list. \n",
    "    Data:\n",
    "        Nested list1:[[1, 2, 3], [2, 4, 5], [1, 1, 1]]\n",
    "        Nested list2:[[1, 2, 3], [-2, 4, -5], [1, -1, 1]]\n",
    "    Expected Output:\n",
    "        Extract 1st column:\n",
    "        [1, 2, 1]\n",
    "        Extract 3rd column:\n",
    "        [3, -5, 1]\n",
    "        \n",
    "        \n",
    "        \n",
    "        "
   ]
  },
  {
   "cell_type": "code",
   "execution_count": null,
   "metadata": {},
   "outputs": [],
   "source": [
    "12. Write a Python program to print the values of specified indices from a given list. \n",
    "    Data:\n",
    "        list:[2, 3, 8, 4, 7, 9, 8, 2, 6, 5, 1, 6, 1, 2, 3, 4, 6, 9, 1, 2]\n",
    "    Expected Output:\n",
    "        List: [2, 3, 8, 4, 7, 9, 8, 2, 6, 5, 1, 6, 1, 2, 3, 4, 6, 9, 1, 2]\n",
    "        Indices: [0, 3, 5, 7, 10]\n",
    "        Values of given indices from the list are : [2, 4, 9, 2, 1]\n",
    "        \n",
    "        \n",
    "        "
   ]
  },
  {
   "cell_type": "code",
   "execution_count": null,
   "metadata": {},
   "outputs": [],
   "source": [
    "13. Write a Python program to remove all elements from a given list present in another list. \n",
    "    Data:\n",
    "        x = [1, 2, 3, 4, 5, 6, 7, 8, 9, 10]\n",
    "        y = [2, 4, 6, 8]\n",
    "    Expected Output:\n",
    "        Remove all elements from 'x' present in 'y:\n",
    "        [1, 3, 5, 7, 9, 10]\n",
    "        \n",
    "        \n",
    "        \n",
    "        "
   ]
  },
  {
   "cell_type": "code",
   "execution_count": null,
   "metadata": {},
   "outputs": [],
   "source": [
    "14. Write a Python program to find the difference between elements (n+1th - nth) of a given list of numeric values. \n",
    "    Data:\n",
    "        list1:[1, 2, 3, 4, 5, 6, 7, 8, 9, 10]\n",
    "        list2:[3, 6, 9, 12]\n",
    "    Expected Output:\n",
    "        Dfference between elements (n+1th – nth) of the said list :\n",
    "        [1, 1, 1, 1, 1, 1, 1, 1, 1]\n",
    "        [3, 3, 3]\n",
    "        \n",
    "        \n",
    "        \n",
    "        "
   ]
  },
  {
   "cell_type": "code",
   "execution_count": null,
   "metadata": {},
   "outputs": [],
   "source": [
    "15. Write a Python program to print only those elements from the nested list y, which are present in the another list x. \n",
    "    Data:\n",
    "        x = [1, 2, 3, 4, 5, 6, 7, 8, 9, 10, 11, 12, 13, 14]\n",
    "        y = [[12, 18, 23, 25, 45], [7, 11, 19, 24, 28], [1, 5, 8, 18, 15, 16]]\n",
    "    Expected Output:\n",
    "        Intersection of said nested lists:\n",
    "        [[12], [7, 11], [1, 5, 8]]\n",
    "        \n",
    "        \n",
    "        \n",
    "        "
   ]
  },
  {
   "cell_type": "code",
   "execution_count": null,
   "metadata": {},
   "outputs": [],
   "source": [
    "16. Write a Python program to interleave multiple lists of the same length. \n",
    "    Data:\n",
    "        lists:\n",
    "        x = [1, 2, 3, 4, 5, 6, 7]\n",
    "        y = [10, 20, 30, 40, 50, 60, 70]\n",
    "        z = [100, 200, 300, 400, 500, 600, 700]\n",
    "    Expected Output:\n",
    "        Interleave multiple lists:\n",
    "        [1, 10, 100, 2, 20, 200, 3, 30, 300, 4, 40, 400, 5, 50, 500, 6, 60, 600, 7, 70, 700]\n",
    "        \n",
    "        \n",
    "        \n",
    "        "
   ]
  },
  {
   "cell_type": "code",
   "execution_count": null,
   "metadata": {},
   "outputs": [],
   "source": [
    "17. Write a Python program to interleave two given list into another list randomly. \n",
    "    Data:\n",
    "        lists:\n",
    "        x = [1, 2, 7, 8, 3, 7]\n",
    "        y = [4, 3, 8, 9, 4, 3, 8, 9]\n",
    "    Expected Output:\n",
    "        Interleave two given list into another list randomly:\n",
    "        [4, 3, 1, 8, 2, 9, 4, 7, 3, 8, 3, 8, 9, 7]\n",
    "        \n",
    "        \n",
    "        \n",
    "        "
   ]
  },
  {
   "cell_type": "code",
   "execution_count": null,
   "metadata": {},
   "outputs": [],
   "source": [
    "18. Write a Python program to get the frequency of the elements in a given list of lists. \n",
    "    Data:\n",
    "        lists:[[1, 2, 3, 2], [4, 5, 6, 2], [7, 8, 9, 5]]\n",
    "    Expected Output:\n",
    "        Frequency of the elements in the said list of lists:\n",
    "        {1: 1, 2: 3, 3: 1, 4: 1, 5: 2, 6: 1, 7: 1, 8: 1, 9: 1}\n",
    "        \n",
    "        \n",
    "        \n",
    "        "
   ]
  },
  {
   "cell_type": "code",
   "execution_count": null,
   "metadata": {},
   "outputs": [],
   "source": [
    "19. Write a Python program to sort a given list. \n",
    "    Data:\n",
    "        lists:['4', '12', '45', '7', '0', '100', '200', '-12', '-500']\n",
    "    Expected Output:\n",
    "        lists: ['4', '12', '45', '7', '0', '100', '200', '-12', '-500']\n",
    "        Sorted list : [-500, -12, 0, 4, 7, 12, 45, 100, 200]\n",
    "        \n",
    "        \n",
    "        "
   ]
  },
  {
   "cell_type": "code",
   "execution_count": null,
   "metadata": {},
   "outputs": [],
   "source": [
    "20. Write a Python program to find the first even and odd numbers from the given list. \n",
    "    Data:\n",
    "        list:[1, 3, 5, 7, 4, 1, 6, 8]\n",
    "    Expected Output:\n",
    "        First even and odd number of the said list of numbers:\n",
    "        (4, 1)\n",
    "        \n",
    "        "
   ]
  }
 ],
 "metadata": {
  "kernelspec": {
   "display_name": "Python 3 (ipykernel)",
   "language": "python",
   "name": "python3"
  },
  "language_info": {
   "codemirror_mode": {
    "name": "ipython",
    "version": 3
   },
   "file_extension": ".py",
   "mimetype": "text/x-python",
   "name": "python",
   "nbconvert_exporter": "python",
   "pygments_lexer": "ipython3",
   "version": "3.11.3"
  }
 },
 "nbformat": 4,
 "nbformat_minor": 4
}
