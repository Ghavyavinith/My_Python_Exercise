{
 "cells": [
  {
   "cell_type": "code",
   "execution_count": 1,
   "id": "a76aefaa",
   "metadata": {},
   "outputs": [
    {
     "name": "stdout",
     "output_type": "stream",
     "text": [
      "enter number of rows needed:3\n",
      "1 \n",
      "\n",
      "1 2 \n",
      "\n",
      "1 2 3 \n",
      "\n"
     ]
    }
   ],
   "source": [
    "n =int(input(\"enter number of rows needed:\"))\n",
    "for i in range(n):\n",
    "        for j in range(i+1):\n",
    "            print(j+1,end=\" \")\n",
    "        print('\\n')"
   ]
  },
  {
   "cell_type": "code",
   "execution_count": 2,
   "id": "a57ba2b2",
   "metadata": {},
   "outputs": [
    {
     "name": "stdout",
     "output_type": "stream",
     "text": [
      "enter number of rows needed:4\n",
      "1 \n",
      "\n",
      "2 1 \n",
      "\n",
      "3 2 1 \n",
      "\n",
      "4 3 2 1 \n",
      "\n"
     ]
    }
   ],
   "source": [
    "n = int(input(\"enter number of rows needed:\"))\n",
    "for i in range(n):\n",
    "        for j in range(i,-1,-1):\n",
    "            print(j+1,end=\" \")\n",
    "        print('\\n')"
   ]
  },
  {
   "cell_type": "code",
   "execution_count": 3,
   "id": "e0d1a88a",
   "metadata": {},
   "outputs": [
    {
     "name": "stdout",
     "output_type": "stream",
     "text": [
      "enter number of rows needed:4\n",
      "1 \n",
      "\n",
      "2 2 \n",
      "\n",
      "3 3 3 \n",
      "\n",
      "4 4 4 4 \n",
      "\n"
     ]
    }
   ],
   "source": [
    "n = int(input(\"enter number of rows needed:\"))\n",
    "for i in range(n):\n",
    "        for j in range(i+1):\n",
    "            print(i+1,end=\" \")\n",
    "        print('\\n')"
   ]
  },
  {
   "cell_type": "code",
   "execution_count": 19,
   "id": "c0591c1a",
   "metadata": {},
   "outputs": [
    {
     "name": "stdout",
     "output_type": "stream",
     "text": [
      "enter number of rows needed:3\n",
      "3 \n",
      "\n",
      "2 2 \n",
      "\n",
      "1 1 1 \n",
      "\n"
     ]
    }
   ],
   "source": [
    "n = int(input(\"enter number of rows needed:\"))\n",
    "for i in range(n):\n",
    "        for j in range(i+1):\n",
    "            print(n-i,end=\" \")\n",
    "        print('\\n')"
   ]
  },
  {
   "cell_type": "code",
   "execution_count": 8,
   "id": "523ea0b8",
   "metadata": {},
   "outputs": [
    {
     "name": "stdout",
     "output_type": "stream",
     "text": [
      "enter number of rows needed:6\n",
      "6 \n",
      "\n",
      "6 5 \n",
      "\n",
      "6 5 4 \n",
      "\n",
      "6 5 4 3 \n",
      "\n",
      "6 5 4 3 2 \n",
      "\n",
      "6 5 4 3 2 1 \n",
      "\n"
     ]
    }
   ],
   "source": [
    "n = int(input(\"enter number of rows needed:\"))\n",
    "for i in range(n):\n",
    "        for j in range(i+1):\n",
    "            print(n-j,end=\" \")\n",
    "        print('\\n')"
   ]
  },
  {
   "cell_type": "code",
   "execution_count": 17,
   "id": "b317bbb5",
   "metadata": {},
   "outputs": [
    {
     "name": "stdout",
     "output_type": "stream",
     "text": [
      "enter number of rows needed:4\n",
      "4 \n",
      "\n",
      "3 4 \n",
      "\n",
      "2 3 4 \n",
      "\n",
      "1 2 3 4 \n",
      "\n"
     ]
    }
   ],
   "source": [
    "n = int(input(\"enter number of rows needed:\"))\n",
    "for i in range(n):\n",
    "        for j in range(i,-1,-1):\n",
    "            print(n-j,end=\" \")\n",
    "        print('\\n')"
   ]
  },
  {
   "cell_type": "code",
   "execution_count": 10,
   "id": "8d9d7868",
   "metadata": {},
   "outputs": [
    {
     "name": "stdout",
     "output_type": "stream",
     "text": [
      "enter number of rows needed:4\n",
      "      1 \n",
      "\n",
      "    1 2 \n",
      "\n",
      "  1 2 3 \n",
      "\n",
      "1 2 3 4 \n",
      "\n"
     ]
    }
   ],
   "source": [
    "n = int(input(\"enter number of rows needed:\"))\n",
    "for i in range(n):\n",
    "        for j in range(n-i-1):\n",
    "            print(\" \",end=\" \")\n",
    "        for j in range(i+1):     \n",
    "            print(j+1,end=\" \")\n",
    "        print('\\n')"
   ]
  },
  {
   "cell_type": "code",
   "execution_count": 11,
   "id": "09967a85",
   "metadata": {},
   "outputs": [
    {
     "name": "stdout",
     "output_type": "stream",
     "text": [
      "enter number of rows needed:4\n",
      "      1 \n",
      "\n",
      "    2 1 \n",
      "\n",
      "  3 2 1 \n",
      "\n",
      "4 3 2 1 \n",
      "\n"
     ]
    }
   ],
   "source": [
    "n = int(input(\"enter number of rows needed:\"))\n",
    "for i in range(n):\n",
    "        for j in range(n-i-1):\n",
    "            print(\" \",end=\" \")\n",
    "        for j in range(i,-1,-1):     \n",
    "            print(j+1,end=\" \")\n",
    "        print('\\n')"
   ]
  },
  {
   "cell_type": "code",
   "execution_count": 12,
   "id": "a9b1dac5",
   "metadata": {},
   "outputs": [
    {
     "name": "stdout",
     "output_type": "stream",
     "text": [
      "enter number of rows needed:4\n",
      "      1 \n",
      "\n",
      "    2 2 \n",
      "\n",
      "  3 3 3 \n",
      "\n",
      "4 4 4 4 \n",
      "\n"
     ]
    }
   ],
   "source": [
    "n = int(input(\"enter number of rows needed:\"))\n",
    "for i in range(n):\n",
    "        for j in range(n-i-1):\n",
    "            print(\" \",end=\" \")\n",
    "        for j in range(i+1):     \n",
    "            print(i+1,end=\" \")\n",
    "        print('\\n')"
   ]
  },
  {
   "cell_type": "code",
   "execution_count": 13,
   "id": "cfe02fdb",
   "metadata": {},
   "outputs": [
    {
     "name": "stdout",
     "output_type": "stream",
     "text": [
      "enter number of rows needed:3\n",
      "    3 \n",
      "\n",
      "  2 2 \n",
      "\n",
      "1 1 1 \n",
      "\n"
     ]
    }
   ],
   "source": [
    "n = int(input(\"enter number of rows needed:\"))\n",
    "for i in range(n):\n",
    "        for j in range(n-i-1):\n",
    "            print(\" \",end=\" \")\n",
    "        for j in range(i+1):     \n",
    "            print(n-i,end=\" \")\n",
    "        print('\\n')"
   ]
  },
  {
   "cell_type": "code",
   "execution_count": 15,
   "id": "f76f2260",
   "metadata": {},
   "outputs": [
    {
     "name": "stdout",
     "output_type": "stream",
     "text": [
      "enter number of rows needed:6\n",
      "          6 \n",
      "\n",
      "        6 5 \n",
      "\n",
      "      6 5 4 \n",
      "\n",
      "    6 5 4 3 \n",
      "\n",
      "  6 5 4 3 2 \n",
      "\n",
      "6 5 4 3 2 1 \n",
      "\n"
     ]
    }
   ],
   "source": [
    "n = int(input(\"enter number of rows needed:\"))\n",
    "for i in range(n):\n",
    "        for j in range(n-i-1):\n",
    "            print(\" \",end=\" \")\n",
    "        for j in range(i+1):     \n",
    "            print(n-j,end=\" \")\n",
    "        print('\\n')"
   ]
  },
  {
   "cell_type": "code",
   "execution_count": 18,
   "id": "358ab97f",
   "metadata": {},
   "outputs": [
    {
     "name": "stdout",
     "output_type": "stream",
     "text": [
      "enter number of rows needed:3\n",
      "    3 \n",
      "\n",
      "  3 2 \n",
      "\n",
      "3 2 1 \n",
      "\n"
     ]
    }
   ],
   "source": [
    "n = int(input(\"enter number of rows needed:\"))\n",
    "for i in range(n):\n",
    "        for j in range(n-i-1):\n",
    "            print(\" \",end=\" \")\n",
    "        for j in range(i+1):     \n",
    "            print(n-j,end=\" \")\n",
    "        print('\\n')"
   ]
  },
  {
   "cell_type": "code",
   "execution_count": null,
   "id": "fbca8540",
   "metadata": {},
   "outputs": [],
   "source": []
  }
 ],
 "metadata": {
  "kernelspec": {
   "display_name": "Python 3 (ipykernel)",
   "language": "python",
   "name": "python3"
  },
  "language_info": {
   "codemirror_mode": {
    "name": "ipython",
    "version": 3
   },
   "file_extension": ".py",
   "mimetype": "text/x-python",
   "name": "python",
   "nbconvert_exporter": "python",
   "pygments_lexer": "ipython3",
   "version": "3.11.3"
  }
 },
 "nbformat": 4,
 "nbformat_minor": 5
}
